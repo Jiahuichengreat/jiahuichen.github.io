{
 "cells": [
  {
   "cell_type": "markdown",
   "id": "c0511d61",
   "metadata": {},
   "source": [
    "# Question 1 \n",
    "## Part A"
   ]
  },
  {
   "cell_type": "code",
   "execution_count": 2,
   "id": "321a7126",
   "metadata": {},
   "outputs": [
    {
     "name": "stdout",
     "output_type": "stream",
     "text": [
      "--2022-09-23 04:05:56--  https://s3.amazonaws.com/dmfa-2020/project-1/hound.txt\n",
      "Resolving s3.amazonaws.com (s3.amazonaws.com)... 54.231.164.40\n",
      "Connecting to s3.amazonaws.com (s3.amazonaws.com)|54.231.164.40|:443... connected.\n",
      "HTTP request sent, awaiting response... 200 OK\n",
      "Length: 345659 (338K) [text/plain]\n",
      "Saving to: 'hound.txt.1'\n",
      "\n",
      "hound.txt.1         100%[===================>] 337.56K  --.-KB/s    in 0.07s   \n",
      "\n",
      "2022-09-23 04:05:57 (4.49 MB/s) - 'hound.txt.1' saved [345659/345659]\n",
      "\n"
     ]
    }
   ],
   "source": [
    "!wget https://s3.amazonaws.com/dmfa-2020/project-1/hound.txt"
   ]
  },
  {
   "cell_type": "code",
   "execution_count": 3,
   "id": "4106c404",
   "metadata": {},
   "outputs": [
    {
     "name": "stdout",
     "output_type": "stream",
     "text": [
      "     190\r\n"
     ]
    }
   ],
   "source": [
    "!grep -n -w \"Holmes\" hound.txt | uniq | wc -l"
   ]
  },
  {
   "cell_type": "code",
   "execution_count": 4,
   "id": "8b990281",
   "metadata": {},
   "outputs": [
    {
     "name": "stdout",
     "output_type": "stream",
     "text": [
      "     113\r\n"
     ]
    }
   ],
   "source": [
    "!grep -n -w \"Watson\" hound.txt | uniq | wc -l "
   ]
  },
  {
   "cell_type": "code",
   "execution_count": 5,
   "id": "90115bb9",
   "metadata": {},
   "outputs": [
    {
     "name": "stdout",
     "output_type": "stream",
     "text": [
      "      72\r\n"
     ]
    }
   ],
   "source": [
    "!grep -n -w \"Barrymore\" hound.txt | uniq | wc -l "
   ]
  },
  {
   "cell_type": "code",
   "execution_count": 6,
   "id": "152bd134",
   "metadata": {},
   "outputs": [
    {
     "name": "stdout",
     "output_type": "stream",
     "text": [
      "      89\r\n"
     ]
    }
   ],
   "source": [
    "!grep  -n -w \"Mortimer\" hound.txt | uniq | wc -l "
   ]
  },
  {
   "cell_type": "markdown",
   "id": "259617a0",
   "metadata": {},
   "source": [
    "## Part B"
   ]
  },
  {
   "cell_type": "code",
   "execution_count": 8,
   "id": "2335b807",
   "metadata": {},
   "outputs": [
    {
     "name": "stdout",
     "output_type": "stream",
     "text": [
      "--2022-09-23 04:06:18--  https://s3.amazonaws.com/dmfa-2020/project-1/hamlet.txt\n",
      "Resolving s3.amazonaws.com (s3.amazonaws.com)... 52.217.44.190\n",
      "Connecting to s3.amazonaws.com (s3.amazonaws.com)|52.217.44.190|:443... connected.\n",
      "HTTP request sent, awaiting response... 200 OK\n",
      "Length: 204885 (200K) [text/plain]\n",
      "Saving to: 'hamlet.txt.1'\n",
      "\n",
      "hamlet.txt.1        100%[===================>] 200.08K  --.-KB/s    in 0.07s   \n",
      "\n",
      "2022-09-23 04:06:18 (2.70 MB/s) - 'hamlet.txt.1' saved [204885/204885]\n",
      "\n"
     ]
    }
   ],
   "source": [
    "!wget  https://s3.amazonaws.com/dmfa-2020/project-1/hamlet.txt"
   ]
  },
  {
   "cell_type": "code",
   "execution_count": 9,
   "id": "4bdc2813",
   "metadata": {},
   "outputs": [
    {
     "name": "stdout",
     "output_type": "stream",
     "text": [
      "     358\r\n"
     ]
    }
   ],
   "source": [
    "!grep -n -w \"^HAMLET\\.\" hamlet.txt| wc -l "
   ]
  },
  {
   "cell_type": "code",
   "execution_count": 10,
   "id": "a37961af",
   "metadata": {},
   "outputs": [
    {
     "name": "stdout",
     "output_type": "stream",
     "text": [
      "      86\r\n"
     ]
    }
   ],
   "source": [
    "!grep -n -w \"^POLONIUS.\" hamlet.txt| wc -l "
   ]
  },
  {
   "cell_type": "code",
   "execution_count": 11,
   "id": "c2350c14",
   "metadata": {},
   "outputs": [
    {
     "name": "stdout",
     "output_type": "stream",
     "text": [
      "      58\r\n"
     ]
    }
   ],
   "source": [
    "!grep -n -w \"^OPHELIA.\" hamlet.txt| wc -l "
   ]
  },
  {
   "cell_type": "code",
   "execution_count": 12,
   "id": "1913b0ba",
   "metadata": {},
   "outputs": [
    {
     "name": "stdout",
     "output_type": "stream",
     "text": [
      "     107\r\n"
     ]
    }
   ],
   "source": [
    "!grep -n -w \"^HORATIO.\" hamlet.txt| wc -l "
   ]
  },
  {
   "cell_type": "markdown",
   "id": "43f29997",
   "metadata": {},
   "source": [
    "# Question 2\n",
    "## Part A"
   ]
  },
  {
   "cell_type": "markdown",
   "id": "e6056fb9",
   "metadata": {},
   "source": [
    "### 1. Unzip the data and combine the two inflating CSV files using csvstack. \n",
    "### Name your combined file “biketrip.csv”. \n",
    "### Compare the total number of lines in each file and in the new combined file using wc command. \n",
    "### Comment on your findings."
   ]
  },
  {
   "cell_type": "code",
   "execution_count": 1,
   "id": "e1990faf",
   "metadata": {},
   "outputs": [
    {
     "name": "stdout",
     "output_type": "stream",
     "text": [
      "--2022-09-23 04:08:10--  https://s3.amazonaws.com/dmfa-2020/project-1/2018-capitalbikeshare-tripdata.zip\n",
      "Resolving s3.amazonaws.com (s3.amazonaws.com)... 52.217.15.30\n",
      "Connecting to s3.amazonaws.com (s3.amazonaws.com)|52.217.15.30|:443... connected.\n",
      "HTTP request sent, awaiting response... 200 OK\n",
      "Length: 18365732 (18M) [application/zip]\n",
      "Saving to: '2018-capitalbikeshare-tripdata.zip'\n",
      "\n",
      "2018-capitalbikesha 100%[===================>]  17.51M  2.85MB/s    in 6.0s    \n",
      "\n",
      "2022-09-23 04:08:17 (2.92 MB/s) - '2018-capitalbikeshare-tripdata.zip' saved [18365732/18365732]\n",
      "\n"
     ]
    }
   ],
   "source": [
    "!wget https://s3.amazonaws.com/dmfa-2020/project-1/2018-capitalbikeshare-tripdata.zip"
   ]
  },
  {
   "cell_type": "code",
   "execution_count": 2,
   "id": "813b5140",
   "metadata": {},
   "outputs": [
    {
     "name": "stdout",
     "output_type": "stream",
     "text": [
      "Archive:  2018-capitalbikeshare-tripdata.zip\n",
      "  inflating: 201807-capitalbikeshare-tripdata.csv  \n",
      "  inflating: 201808-capitalbikeshare-tripdata.csv  \n"
     ]
    }
   ],
   "source": [
    "!unzip 2018-capitalbikeshare-tripdata.zip"
   ]
  },
  {
   "cell_type": "code",
   "execution_count": 3,
   "id": "cdbd3687",
   "metadata": {},
   "outputs": [],
   "source": [
    "!csvstack 201807-capitalbikeshare-tripdata.csv 201808-capitalbikeshare-tripdata.csv > biketrip.csv"
   ]
  },
  {
   "cell_type": "code",
   "execution_count": 4,
   "id": "553717d3",
   "metadata": {
    "scrolled": true
   },
   "outputs": [
    {
     "name": "stdout",
     "output_type": "stream",
     "text": [
      "  403867 201808-capitalbikeshare-tripdata.csv\n",
      "  404762 201807-capitalbikeshare-tripdata.csv\n",
      "  808628 biketrip.csv\n"
     ]
    }
   ],
   "source": [
    "!wc -l 201808-capitalbikeshare-tripdata.csv \n",
    "!wc -l 201807-capitalbikeshare-tripdata.csv \n",
    "!wc -l biketrip.csv"
   ]
  },
  {
   "cell_type": "markdown",
   "id": "137236c2",
   "metadata": {},
   "source": [
    "### Findings: The first file line + the second file line +1 = new combined file line, for the first two csv files have the same tags."
   ]
  },
  {
   "cell_type": "markdown",
   "id": "577edbba",
   "metadata": {},
   "source": [
    "### 2. List the labels for the heading line."
   ]
  },
  {
   "cell_type": "code",
   "execution_count": 6,
   "id": "73ee971f",
   "metadata": {},
   "outputs": [
    {
     "name": "stdout",
     "output_type": "stream",
     "text": [
      "  1: Duration\r\n",
      "  2: Start date\r\n",
      "  3: End date\r\n",
      "  4: Start station number\r\n",
      "  5: Start station\r\n",
      "  6: End station number\r\n",
      "  7: End station\r\n",
      "  8: Bike number\r\n",
      "  9: Member type\r\n"
     ]
    }
   ],
   "source": [
    "!csvcut -n biketrip.csv #a list of the label heading for the combined file"
   ]
  },
  {
   "cell_type": "markdown",
   "id": "8111a572",
   "metadata": {},
   "source": [
    "### 3 Which 10 Capital Bikeshare stations were the most popular departing stations in July and August 2018 in terms of number of rides? Provide the full name of the station, not just the station number."
   ]
  },
  {
   "cell_type": "code",
   "execution_count": 8,
   "id": "5266b726",
   "metadata": {},
   "outputs": [
    {
     "name": "stdout",
     "output_type": "stream",
     "text": [
      "15474 31258,Lincoln Memorial\r\n",
      "13082 31623,Columbus Circle / Union Station\r\n",
      "11999 31247,Jefferson Dr & 14th St SW\r\n",
      "11671 31289,Henry Bacon Dr & Lincoln Memorial Circle NW\r\n",
      "11650 31288,4th St & Madison Dr NW\r\n",
      "10357 31248,Smithsonian-National Mall / Jefferson Dr & 12th St SW\r\n",
      "9554 31249,Jefferson Memorial\r\n",
      "8620 31290,17th St & Independence Ave SW\r\n",
      "8583 31200,Massachusetts Ave & Dupont Circle NW\r\n",
      "8569 31201,15th & P St NW\r\n"
     ]
    }
   ],
   "source": [
    "!csvcut -c4,5 biketrip.csv | csvsort -c1 | uniq -c | sort -rn | head"
   ]
  },
  {
   "cell_type": "markdown",
   "id": "be59d8c7",
   "metadata": {},
   "source": [
    "### 4. Which 10 stations were the most popular destination stations in July and August 2018 in terms of number of rides? provide the full name of the station, not just the station number."
   ]
  },
  {
   "cell_type": "code",
   "execution_count": 14,
   "id": "c5b54662",
   "metadata": {},
   "outputs": [
    {
     "name": "stdout",
     "output_type": "stream",
     "text": [
      "15642 Lincoln Memorial\r\n",
      "13635 Columbus Circle / Union Station\r\n",
      "12135 Jefferson Dr & 14th St SW\r\n",
      "11722 Henry Bacon Dr & Lincoln Memorial Circle NW\r\n",
      "11555 4th St & Madison Dr NW\r\n",
      "10693 Smithsonian-National Mall / Jefferson Dr & 12th St SW\r\n",
      "9866 Jefferson Memorial\r\n",
      "9141 Massachusetts Ave & Dupont Circle NW\r\n",
      "8884 15th & P St NW\r\n",
      "8640 17th St & Independence Ave SW\r\n"
     ]
    }
   ],
   "source": [
    "!csvcut -c7 biketrip.csv | sort | uniq -c | sort -rn | head "
   ]
  },
  {
   "cell_type": "markdown",
   "id": "5bd819ca",
   "metadata": {},
   "source": [
    "### 5. Which 10 station-pairs (Departing-Destination) are most popular in July and August 2018 in terms of number of rides? provide the full name of the station, not just the station number."
   ]
  },
  {
   "cell_type": "code",
   "execution_count": 15,
   "id": "ef949045",
   "metadata": {},
   "outputs": [
    {
     "name": "stdout",
     "output_type": "stream",
     "text": [
      "1633 Smithsonian-National Mall / Jefferson Dr & 12th St SW,Smithsonian-National Mall / Jefferson Dr & 12th St SW\r\n",
      "1553 Jefferson Dr & 14th St SW,Jefferson Dr & 14th St SW\r\n",
      "1521 Lincoln Memorial,Jefferson Memorial\r\n",
      "1441 4th St & Madison Dr NW,4th St & Madison Dr NW\r\n",
      "1327 Lincoln Memorial,Lincoln Memorial\r\n",
      "1231 Jefferson Dr & 14th St SW,Lincoln Memorial\r\n",
      "1225 17th St & Independence Ave SW,Lincoln Memorial\r\n",
      "1121 Ohio Dr & West Basin Dr SW / MLK & FDR Memorials,Ohio Dr & West Basin Dr SW / MLK & FDR Memorials\r\n",
      "1115 17th St & Independence Ave SW,17th St & Independence Ave SW\r\n",
      "1085 Henry Bacon Dr & Lincoln Memorial Circle NW,Henry Bacon Dr & Lincoln Memorial Circle NW\r\n",
      "sort: Broken pipe\r\n"
     ]
    }
   ],
   "source": [
    "!csvcut -c5,7 biketrip.csv | sort | uniq -c | sort -rn | head -10"
   ]
  },
  {
   "cell_type": "markdown",
   "id": "952d43ef",
   "metadata": {},
   "source": [
    "### 6. Comments on your finding for Q3, Q4 and Q5."
   ]
  },
  {
   "cell_type": "markdown",
   "id": "04864543",
   "metadata": {},
   "source": [
    "### Findings: When we select different colomns, the results differ. There is no apparent relation between most popular station-pairs, departing stations, and destination stations."
   ]
  },
  {
   "cell_type": "markdown",
   "id": "155603bf",
   "metadata": {},
   "source": [
    "## Part B"
   ]
  },
  {
   "cell_type": "markdown",
   "id": "0976f2ff",
   "metadata": {},
   "source": [
    "### 1. For the most popular departure station, which 12 bikes were used most in trips departing from there?\n",
    "### provide the full name of the station, not just the station number."
   ]
  },
  {
   "cell_type": "code",
   "execution_count": 16,
   "id": "47bb6550",
   "metadata": {},
   "outputs": [
    {
     "name": "stdout",
     "output_type": "stream",
     "text": [
      "   5 31258,Lincoln Memorial,31258,Lincoln Memorial,W22309\r\n",
      "   5 31258,Lincoln Memorial,31258,Lincoln Memorial,W20527\r\n",
      "   5 31258,Lincoln Memorial,31249,Jefferson Memorial,W23237\r\n",
      "   4 31258,Lincoln Memorial,31290,17th St & Independence Ave SW,W22096\r\n",
      "   4 31258,Lincoln Memorial,31288,4th St & Madison Dr NW,W20705\r\n",
      "   4 31258,Lincoln Memorial,31288,4th St & Madison Dr NW,W20538\r\n",
      "   4 31258,Lincoln Memorial,31288,4th St & Madison Dr NW,W20446\r\n",
      "   4 31258,Lincoln Memorial,31258,Lincoln Memorial,W23268\r\n",
      "   4 31258,Lincoln Memorial,31258,Lincoln Memorial,W23235\r\n",
      "   4 31258,Lincoln Memorial,31258,Lincoln Memorial,W22936\r\n",
      "   4 31258,Lincoln Memorial,31258,Lincoln Memorial,W22643\r\n",
      "   4 31258,Lincoln Memorial,31258,Lincoln Memorial,W22555\r\n",
      "sort: Broken pipe\r\n"
     ]
    }
   ],
   "source": [
    "!csvgrep -c4 -r \"31258\" biketrip.csv | csvcut -c4,5,6,7,8 | sort -r | uniq -c | sort -rn|  head -12"
   ]
  },
  {
   "cell_type": "markdown",
   "id": "26aaec57",
   "metadata": {},
   "source": [
    "### 2. Which 12 bikes were used most in trips ending at the most popular destination station? \n",
    "### provide the full name of the station, not just the station number."
   ]
  },
  {
   "cell_type": "code",
   "execution_count": 17,
   "id": "a01189bf",
   "metadata": {},
   "outputs": [
    {
     "name": "stdout",
     "output_type": "stream",
     "text": [
      "   5 31258,Lincoln Memorial,31258,Lincoln Memorial,W22309\r\n",
      "   5 31258,Lincoln Memorial,31258,Lincoln Memorial,W20527\r\n",
      "   5 31247,Jefferson Dr & 14th St SW,31258,Lincoln Memorial,W21882\r\n",
      "   4 31290,17th St & Independence Ave SW,31258,Lincoln Memorial,W23348\r\n",
      "   4 31290,17th St & Independence Ave SW,31258,Lincoln Memorial,W22227\r\n",
      "   4 31290,17th St & Independence Ave SW,31258,Lincoln Memorial,W22029\r\n",
      "   4 31290,17th St & Independence Ave SW,31258,Lincoln Memorial,W21746\r\n",
      "   4 31290,17th St & Independence Ave SW,31258,Lincoln Memorial,W01257\r\n",
      "   4 31258,Lincoln Memorial,31258,Lincoln Memorial,W23268\r\n",
      "   4 31258,Lincoln Memorial,31258,Lincoln Memorial,W23235\r\n",
      "   4 31258,Lincoln Memorial,31258,Lincoln Memorial,W22936\r\n",
      "   4 31258,Lincoln Memorial,31258,Lincoln Memorial,W22643\r\n",
      "sort: Broken pipe\r\n"
     ]
    }
   ],
   "source": [
    "!csvgrep -c6 -r \"31258\" biketrip.csv | csvcut -c4,5,6,7,8 | sort -r | uniq -c | sort -rn |  head -12"
   ]
  },
  {
   "cell_type": "markdown",
   "id": "54971110",
   "metadata": {},
   "source": [
    "# Question 3 \n",
    "### 1. Upload the two files into your root directory, combine the first file (header) with the unzipped version of the second file (data) and name the combined file as “candidates.csv”"
   ]
  },
  {
   "cell_type": "code",
   "execution_count": 18,
   "id": "b82877d4",
   "metadata": {},
   "outputs": [
    {
     "name": "stdout",
     "output_type": "stream",
     "text": [
      "--2022-09-23 05:18:18--  https://www.fec.gov/files/bulk-downloads/data_dictionaries/cm_header_file.csv\n",
      "Resolving www.fec.gov (www.fec.gov)... 18.160.46.102, 18.160.46.56, 18.160.46.98, ...\n",
      "Connecting to www.fec.gov (www.fec.gov)|18.160.46.102|:443... connected.\n",
      "HTTP request sent, awaiting response... 302 Moved Temporarily\n",
      "Location: https://cg-519a459a-0ea3-42c2-b7bc-fa1143481f74.s3-us-gov-west-1.amazonaws.com/bulk-downloads/data_dictionaries/cm_header_file.csv [following]\n",
      "--2022-09-23 05:18:19--  https://cg-519a459a-0ea3-42c2-b7bc-fa1143481f74.s3-us-gov-west-1.amazonaws.com/bulk-downloads/data_dictionaries/cm_header_file.csv\n",
      "Resolving cg-519a459a-0ea3-42c2-b7bc-fa1143481f74.s3-us-gov-west-1.amazonaws.com (cg-519a459a-0ea3-42c2-b7bc-fa1143481f74.s3-us-gov-west-1.amazonaws.com)... 108.175.50.132\n",
      "Connecting to cg-519a459a-0ea3-42c2-b7bc-fa1143481f74.s3-us-gov-west-1.amazonaws.com (cg-519a459a-0ea3-42c2-b7bc-fa1143481f74.s3-us-gov-west-1.amazonaws.com)|108.175.50.132|:443... connected.\n",
      "HTTP request sent, awaiting response... 200 OK\n",
      "Length: 158 [binary/octet-stream]\n",
      "Saving to: 'cm_header_file.csv'\n",
      "\n",
      "cm_header_file.csv  100%[===================>]     158  --.-KB/s    in 0s      \n",
      "\n",
      "2022-09-23 05:18:19 (2.69 MB/s) - 'cm_header_file.csv' saved [158/158]\n",
      "\n"
     ]
    }
   ],
   "source": [
    "!wget https://www.fec.gov/files/bulk-downloads/data_dictionaries/cm_header_file.csv"
   ]
  },
  {
   "cell_type": "code",
   "execution_count": 19,
   "id": "8077d1cb",
   "metadata": {},
   "outputs": [
    {
     "name": "stdout",
     "output_type": "stream",
     "text": [
      "--2022-09-23 05:18:53--  https://www.fec.gov/files/bulk-downloads/2022/cm22.zip\n",
      "Resolving www.fec.gov (www.fec.gov)... 18.160.46.102, 18.160.46.56, 18.160.46.98, ...\n",
      "Connecting to www.fec.gov (www.fec.gov)|18.160.46.102|:443... connected.\n",
      "HTTP request sent, awaiting response... 302 Moved Temporarily\n",
      "Location: https://cg-519a459a-0ea3-42c2-b7bc-fa1143481f74.s3-us-gov-west-1.amazonaws.com/bulk-downloads/2022/cm22.zip [following]\n",
      "--2022-09-23 05:18:53--  https://cg-519a459a-0ea3-42c2-b7bc-fa1143481f74.s3-us-gov-west-1.amazonaws.com/bulk-downloads/2022/cm22.zip\n",
      "Resolving cg-519a459a-0ea3-42c2-b7bc-fa1143481f74.s3-us-gov-west-1.amazonaws.com (cg-519a459a-0ea3-42c2-b7bc-fa1143481f74.s3-us-gov-west-1.amazonaws.com)... 108.175.48.180\n",
      "Connecting to cg-519a459a-0ea3-42c2-b7bc-fa1143481f74.s3-us-gov-west-1.amazonaws.com (cg-519a459a-0ea3-42c2-b7bc-fa1143481f74.s3-us-gov-west-1.amazonaws.com)|108.175.48.180|:443... connected.\n",
      "HTTP request sent, awaiting response... 200 OK\n",
      "Length: 819828 (801K) [application/zip]\n",
      "Saving to: 'cm22.zip'\n",
      "\n",
      "cm22.zip            100%[===================>] 800.61K  1.59MB/s    in 0.5s    \n",
      "\n",
      "2022-09-23 05:18:54 (1.59 MB/s) - 'cm22.zip' saved [819828/819828]\n",
      "\n"
     ]
    }
   ],
   "source": [
    "!wget https://www.fec.gov/files/bulk-downloads/2022/cm22.zip"
   ]
  },
  {
   "cell_type": "code",
   "execution_count": 20,
   "id": "3fd913ed",
   "metadata": {},
   "outputs": [
    {
     "name": "stdout",
     "output_type": "stream",
     "text": [
      "Archive:  cm22.zip\r\n",
      "  inflating: cm.txt                  \r\n"
     ]
    }
   ],
   "source": [
    "!unzip cm22.zip"
   ]
  },
  {
   "cell_type": "code",
   "execution_count": 21,
   "id": "b0ef216c",
   "metadata": {},
   "outputs": [],
   "source": [
    "!rm cm22.zip"
   ]
  },
  {
   "cell_type": "code",
   "execution_count": 22,
   "id": "2b364869",
   "metadata": {},
   "outputs": [
    {
     "name": "stdout",
     "output_type": "stream",
     "text": [
      "1650 errors logged to cm_err.csv\r\n",
      "32719 rows were joined/reduced to 8070 rows after eliminating expected internal line breaks.\r\n"
     ]
    }
   ],
   "source": [
    "!csvclean cm.txt"
   ]
  },
  {
   "cell_type": "code",
   "execution_count": 23,
   "id": "fcf8c0bc",
   "metadata": {},
   "outputs": [
    {
     "name": "stdout",
     "output_type": "stream",
     "text": [
      "C00000059|HALLMARK CARDS, INC. PAC (HALLPAC)|KLEIN, CASSIE MS.|2501 MCGEE, MD853||KANSAS CITY|MO|64108|B|Q|UNK|M|C|HALLMARK CARDS, INC.|\r\n",
      "C00000422|AMERICAN MEDICAL ASSOCIATION POLITICAL ACTION COMMITTEE|WALKER, KEVIN MR.|25 MASSACHUSETTS AVE, NW|SUITE 600|WASHINGTON|DC|200017400|B|Q||M||ALABAMA MEDICAL PAC|\r\n",
      "C00000489|D R I V E POLITICAL FUND CHAPTER 886|JERRY SIMS JR|3528 W RENO||OKLAHOMA CITY|OK|73107|U|N||Q|L||\r\n",
      "C00000547|KANSAS MEDICAL SOCIETY POLITICAL ACTION COMMITTEE|C. RICHARD BONEBRAKE, M.D.|623 SW 10TH AVE||TOPEKA|KS|66612|U|Q|UNK|T|T||\r\n",
      "C00000729|AMERICAN DENTAL ASSOCIATION POLITICAL ACTION COMMITTEE|FAIR, JULIAN H DR. III|1111 14TH STREET, NW|SUITE 1100|WASHINGTON|DC|200055627|B|Q|UNK|M|M||\r\n",
      "C00000885|INTERNATIONAL UNION OF PAINTERS AND ALLIED TRADES POLITICAL ACTION TOGETHER POLITICAL COMMITTEE|SMITH, GREGG|7234 PARKWAY DRIVE||HANOVER|MD|21076|B|Q|UNK|M|L|INTERNATIONAL UNION OF PAINTERS AND ALLIED TRADES|\r\n",
      "C00000901|BUILD POLITICAL ACTION COMMITTEE OF THE NATIONAL ASSOCIATION OF HOME BUILDERS (BUILDPAC)|RAMAGE, EILEEN|1201 15TH STREET, NW||WASHINGTON|DC|20005|B|Q|UNK|M|T|NATIONAL ASSOCIATION OF HOME BUILDERS|\r\n",
      "C00000935|DCCC|PERSICO, TIMOTHY|430 SOUTH CAPITOL STREET, SE|2ND FLOOR|WASHINGTON|DC|200034024|U|Y|DEM|M|||\r\n",
      "C00000984|UNITED STATES TELECOM ASSOCIATION POLITICAL ACTION COMMITTEE (TELECOMPAC)|HEINER, BRANDON|601 NEW JERSEY AVE NW|STE 600|WASHINGTON|DC|20001|B|Q|UNK|M|T|UNITED STATES TELECOM ASSOCIATION|\r\n",
      "C00001016|CARPENTERS LEGISLATIVE IMPROVEMENT COMMITTEE UNITED BROTHERHOOD OF CARPENTERS AND JOINERS|FLYNN, THOMAS|101 CONSTIUTION AVENUE, NW|10TH FLOOR WEST|WASHINGTON|DC|20001|B|Q|NNE|M|L|UNITED BROTHERHOOD OF CARPENTERS AND JOINERS OF AMERICA|\r\n"
     ]
    }
   ],
   "source": [
    "!head -10 cm.txt"
   ]
  },
  {
   "cell_type": "code",
   "execution_count": 24,
   "id": "01f18e12",
   "metadata": {},
   "outputs": [],
   "source": [
    "!csvformat -d \"|\" cm.txt > cm.csv"
   ]
  },
  {
   "cell_type": "code",
   "execution_count": 25,
   "id": "30e01098",
   "metadata": {},
   "outputs": [
    {
     "name": "stdout",
     "output_type": "stream",
     "text": [
      "C00000059,\"HALLMARK CARDS, INC. PAC (HALLPAC)\",\"KLEIN, CASSIE MS.\",\"2501 MCGEE, MD853\",,KANSAS CITY,MO,64108,B,Q,UNK,M,C,\"HALLMARK CARDS, INC.\",\r\n",
      "C00000422,AMERICAN MEDICAL ASSOCIATION POLITICAL ACTION COMMITTEE,\"WALKER, KEVIN MR.\",\"25 MASSACHUSETTS AVE, NW\",SUITE 600,WASHINGTON,DC,200017400,B,Q,,M,,ALABAMA MEDICAL PAC,\r\n",
      "C00000489,D R I V E POLITICAL FUND CHAPTER 886,JERRY SIMS JR,3528 W RENO,,OKLAHOMA CITY,OK,73107,U,N,,Q,L,,\r\n",
      "C00000547,KANSAS MEDICAL SOCIETY POLITICAL ACTION COMMITTEE,\"C. RICHARD BONEBRAKE, M.D.\",623 SW 10TH AVE,,TOPEKA,KS,66612,U,Q,UNK,T,T,,\r\n",
      "C00000729,AMERICAN DENTAL ASSOCIATION POLITICAL ACTION COMMITTEE,\"FAIR, JULIAN H DR. III\",\"1111 14TH STREET, NW\",SUITE 1100,WASHINGTON,DC,200055627,B,Q,UNK,M,M,,\r\n",
      "C00000885,INTERNATIONAL UNION OF PAINTERS AND ALLIED TRADES POLITICAL ACTION TOGETHER POLITICAL COMMITTEE,\"SMITH, GREGG\",7234 PARKWAY DRIVE,,HANOVER,MD,21076,B,Q,UNK,M,L,INTERNATIONAL UNION OF PAINTERS AND ALLIED TRADES,\r\n",
      "C00000901,BUILD POLITICAL ACTION COMMITTEE OF THE NATIONAL ASSOCIATION OF HOME BUILDERS (BUILDPAC),\"RAMAGE, EILEEN\",\"1201 15TH STREET, NW\",,WASHINGTON,DC,20005,B,Q,UNK,M,T,NATIONAL ASSOCIATION OF HOME BUILDERS,\r\n",
      "C00000935,DCCC,\"PERSICO, TIMOTHY\",\"430 SOUTH CAPITOL STREET, SE\",2ND FLOOR,WASHINGTON,DC,200034024,U,Y,DEM,M,,,\r\n",
      "C00000984,UNITED STATES TELECOM ASSOCIATION POLITICAL ACTION COMMITTEE (TELECOMPAC),\"HEINER, BRANDON\",601 NEW JERSEY AVE NW,STE 600,WASHINGTON,DC,20001,B,Q,UNK,M,T,UNITED STATES TELECOM ASSOCIATION,\r\n",
      "C00001016,CARPENTERS LEGISLATIVE IMPROVEMENT COMMITTEE UNITED BROTHERHOOD OF CARPENTERS AND JOINERS,\"FLYNN, THOMAS\",\"101 CONSTIUTION AVENUE, NW\",10TH FLOOR WEST,WASHINGTON,DC,20001,B,Q,NNE,M,L,UNITED BROTHERHOOD OF CARPENTERS AND JOINERS OF AMERICA,\r\n"
     ]
    }
   ],
   "source": [
    "!head -10 cm.csv"
   ]
  },
  {
   "cell_type": "code",
   "execution_count": 26,
   "id": "481fda6c",
   "metadata": {},
   "outputs": [],
   "source": [
    "!csvstack cm_header_file.csv cm.csv > candidates.csv # name the combined file as candidates.csv"
   ]
  },
  {
   "cell_type": "markdown",
   "id": "35f5411f",
   "metadata": {},
   "source": [
    "### 2 Provide a list of the label heading for the combined file. Display the first 7 columns and 15 rows of the combined file"
   ]
  },
  {
   "cell_type": "code",
   "execution_count": 27,
   "id": "2cfc1126",
   "metadata": {},
   "outputs": [
    {
     "name": "stdout",
     "output_type": "stream",
     "text": [
      "  1: CMTE_ID\r\n",
      "  2: CMTE_NM\r\n",
      "  3: TRES_NM\r\n",
      "  4: CMTE_ST1\r\n",
      "  5: CMTE_ST2\r\n",
      "  6: CMTE_CITY\r\n",
      "  7: CMTE_ST\r\n",
      "  8: CMTE_ZIP\r\n",
      "  9: CMTE_DSGN\r\n",
      " 10: CMTE_TP\r\n",
      " 11: CMTE_PTY_AFFILIATION\r\n",
      " 12: CMTE_FILING_FREQ\r\n",
      " 13: ORG_TP\r\n",
      " 14: CONNECTED_ORG_NM\r\n",
      " 15: CAND_ID\r\n"
     ]
    }
   ],
   "source": [
    "!csvcut -n candidates.csv #a list of the label heading for the combined file"
   ]
  },
  {
   "cell_type": "code",
   "execution_count": 28,
   "id": "d8fb2154",
   "metadata": {},
   "outputs": [
    {
     "name": "stdout",
     "output_type": "stream",
     "text": [
      "| CMTE_ID   | CMTE_NM                                                                                         | TRES_NM                    | CMTE_ST1                     | CMTE_ST2        | CMTE_CITY     | CMTE_ST |\r\n",
      "| --------- | ----------------------------------------------------------------------------------------------- | -------------------------- | ---------------------------- | --------------- | ------------- | ------- |\r\n",
      "| C00000422 | AMERICAN MEDICAL ASSOCIATION POLITICAL ACTION COMMITTEE                                         | WALKER, KEVIN MR.          | 25 MASSACHUSETTS AVE, NW     | SUITE 600       | WASHINGTON    | DC      |\r\n",
      "| C00000489 | D R I V E POLITICAL FUND CHAPTER 886                                                            | JERRY SIMS JR              | 3528 W RENO                  |                 | OKLAHOMA CITY | OK      |\r\n",
      "| C00000547 | KANSAS MEDICAL SOCIETY POLITICAL ACTION COMMITTEE                                               | C. RICHARD BONEBRAKE, M.D. | 623 SW 10TH AVE              |                 | TOPEKA        | KS      |\r\n",
      "| C00000729 | AMERICAN DENTAL ASSOCIATION POLITICAL ACTION COMMITTEE                                          | FAIR, JULIAN H DR. III     | 1111 14TH STREET, NW         | SUITE 1100      | WASHINGTON    | DC      |\r\n",
      "| C00000885 | INTERNATIONAL UNION OF PAINTERS AND ALLIED TRADES POLITICAL ACTION TOGETHER POLITICAL COMMITTEE | SMITH, GREGG               | 7234 PARKWAY DRIVE           |                 | HANOVER       | MD      |\r\n",
      "| C00000901 | BUILD POLITICAL ACTION COMMITTEE OF THE NATIONAL ASSOCIATION OF HOME BUILDERS (BUILDPAC)        | RAMAGE, EILEEN             | 1201 15TH STREET, NW         |                 | WASHINGTON    | DC      |\r\n",
      "| C00000935 | DCCC                                                                                            | PERSICO, TIMOTHY           | 430 SOUTH CAPITOL STREET, SE | 2ND FLOOR       | WASHINGTON    | DC      |\r\n",
      "| C00000984 | UNITED STATES TELECOM ASSOCIATION POLITICAL ACTION COMMITTEE (TELECOMPAC)                       | HEINER, BRANDON            | 601 NEW JERSEY AVE NW        | STE 600         | WASHINGTON    | DC      |\r\n",
      "| C00001016 | CARPENTERS LEGISLATIVE IMPROVEMENT COMMITTEE UNITED BROTHERHOOD OF CARPENTERS AND JOINERS       | FLYNN, THOMAS              | 101 CONSTIUTION AVENUE, NW   | 10TH FLOOR WEST | WASHINGTON    | DC      |\r\n",
      "| C00001180 | MICHIGAN DOCTORS POLITICAL ACTION COMMITTEE - MICHIGAN STATE MEDICAL SOCIETY                    | GHOSE, AMIT                | P.O. BOX 769                 |                 | EAST LANSING  | MI      |\r\n",
      "| C00001198 | AMERICAN HOTEL AND LODGING ASSOCIATION POLITICAL ACTION COMMITTEE ('HOTELPAC')                  | MASON, DAVID M.            | 1250 EYE STREET, NW #1100    |                 | WASHINGTON    | DC      |\r\n",
      "| C00001214 | TEXAS MEDICAL ASSOCIATION POLITICAL ACTION COMMITTEE                                            | MOJEZATI, CHRISTINE MS.    | 401 WEST 15TH STREET         |                 | AUSTIN        | TX      |\r\n",
      "| C00001305 | REPUBLICAN PARTY OF VIRGINIA INC                                                                | SELPH, JOHN G MR.          | 115 EAST GRACE STREET        |                 | RICHMOND      | VA      |\r\n",
      "| C00001313 | REPUBLICAN PARTY OF MINNESOTA - FEDERAL                                                         | PRINKKILA, LEE             | 7400 METRO BLVD              | STE 424         | MINNEAPOLIS   | MN      |\r\n"
     ]
    }
   ],
   "source": [
    "!head -15 candidates.csv | csvcut -c1,2,3,4,5,6,7 | csvlook #first 7 columns and 15 rows"
   ]
  },
  {
   "cell_type": "markdown",
   "id": "621b0a3d",
   "metadata": {},
   "source": [
    "### 3 Provide in a table a list of all Republican committees with an office in NY. The list should contain the Committee name, Committee city or town, and Connected organization's name. Sort the finding by Committee name."
   ]
  },
  {
   "cell_type": "code",
   "execution_count": 29,
   "id": "492f003b",
   "metadata": {},
   "outputs": [
    {
     "name": "stdout",
     "output_type": "stream",
     "text": [
      "| CMTE_NM                                                                                    | CMTE_CITY        | CONNECTED_ORG_NM                            |\r\n",
      "| ------------------------------------------------------------------------------------------ | ---------------- | ------------------------------------------- |\r\n",
      "| 2020 PRESIDENTIAL CANDIDATE COMMITTEE                                                      | ITHACA           |                                             |\r\n",
      "| ABREU FOR OFFICE                                                                           | BRONX            |                                             |\r\n",
      "| ANDREW MCCARTHY FOR NEW YORK                                                               | OLEAN            |                                             |\r\n",
      "| BECKER FOR CONGRESS                                                                        | MERRICK          |                                             |\r\n",
      "| BEN PAC                                                                                    | SHIRLEY          | BENINE VICTORY COMMITTEE                    |\r\n",
      "| BENINE FOR CONGRESS                                                                        | SHIRLEY          |                                             |\r\n",
      "| BLACKOUT ENTERTAINMENT GROUP INC.                                                          | BRONX            |                                             |\r\n",
      "| BLUE COLLAR POLITICS                                                                       | CARTHAGE         |                                             |\r\n"
     ]
    }
   ],
   "source": [
    "!csvgrep -c7 -r \"NY\" candidates.csv| csvgrep -c11 -r \"REP\" |csvcut -c2,6,14  | csvsort -c1 | csvlook | head -10"
   ]
  },
  {
   "cell_type": "markdown",
   "id": "9d7ad3cf",
   "metadata": {},
   "source": [
    "### 4 Provide the names of the committees that appear more than two times in this dataset? \n",
    "### If you find any investigate whether these records are duplicates and suggest an action (e.g. remove) (10 points)."
   ]
  },
  {
   "cell_type": "code",
   "execution_count": 30,
   "id": "3f839e87",
   "metadata": {},
   "outputs": [
    {
     "name": "stdout",
     "output_type": "stream",
     "text": [
      "   4 COLLINS FOR CONGRESS\r\n",
      "   3 SCHNEIDER FOR CONGRESS\r\n",
      "   3 PAC THE COURT\r\n",
      "   3 JUAN FOR CONGRESS\r\n",
      "   3 JAMES TAYLOR FOR CONGRESS\r\n",
      "   3 HOLD THEM ACCOUNTABLE\r\n",
      "   2 WORKING PEOPLE RISING\r\n",
      "   2 WIRTH FOR CONGRESS\r\n",
      "   2 WINTER FOR MONTANA\r\n",
      "   2 WINNING FOR WOMEN INC.\r\n",
      "   2 WESTERN MICHIGAN VICTORY FUND\r\n",
      "   2 US CHAMBER OF COMMERCE\r\n",
      "   2 URBINA FOR CONGRESS\r\n",
      "   2 TUNNELL FOR CONGRESS\r\n",
      "   2 TILLIS-NRSC COMMITTEE\r\n",
      "   2 TERRANCE MORKEECH ABRAHAM 2024 FOR PRESIDENT\r\n",
      "   2 TARKANIAN FOR CONGRESS\r\n",
      "   2 TAKE BACK AMERICA PAC\r\n",
      "   2 SWAIN FOR CONGRESS\r\n",
      "   2 SULLIVAN FOR CONGRESS\r\n",
      "   2 STUDENTS 4 DEMOCRACY\r\n",
      "   2 STEVEN CASTELLANO FOR US CONGRESS\r\n",
      "   2 STAND UP REPUBLIC INC\r\n",
      "   2 SOUTH ASIANS VOTE 2020\r\n",
      "   2 SOLIS FOR CONGRESS\r\n",
      "   2 SOCAL HEALTH CARE COALITION A PROJECT OF SIXTEEN THIRTY FUND\r\n",
      "   2 SINGH FOR SENATE\r\n",
      "   2 SIERRA CLUB\r\n",
      "   2 SHEPHERD FOR CONGRESS\r\n",
      "   2 SERVE AMERICA VICTORY FUND\r\n",
      "   2 SENTINEL PAC\r\n",
      "   2 SCOTT FOR CONGRESS\r\n",
      "   2 SAVE AMERICA\r\n",
      "   2 SALAZAR FOR CONGRESS\r\n",
      "   2 RUPERT FOR CONGRESS\r\n",
      "   2 RON HOOD FOR CONGRESS\r\n",
      "   2 PLUS ACTION FUND\r\n",
      "   2 PLATINUM BOSS INC COMMITTEE OF GURPINDER SINGH SAGOO\r\n",
      "   2 PLANNED PARENTHOOD ACTION FUND INC\r\n",
      "   2 PIEDMONT RISING\r\n",
      "   2 PETERSON FOR CONGRESS\r\n",
      "   2 PETERS FOR CONGRESS\r\n",
      "   2 PENNSYLVANIA FUND FOR CHANGE\r\n",
      "   2 PATRIOT MAJORITY USA\r\n",
      "   2 PATIENTS USA\r\n",
      "   2 NORTH VALLEY LABOR FEDERATION\r\n",
      "   2 NEW DIRECTION PAC\r\n",
      "   2 NELSON FOR CONGRESS\r\n",
      "   2 NATIONAL RIFLE ASSOCIATION INSTITUTE FOR LEGISLATIVE ACTION\r\n",
      "   2 NATIONAL FEDERATION OF INDEPENDENT BUSINESS\r\n",
      "   2 NATIONAL EDUCATION ASSOCIATION\r\n",
      "   2 NATIONAL ASSOCIATION OF HOME BUILDERS\r\n",
      "   2 NADIA BAHIA SMALLEY FOR PRESIDENT 2020\r\n",
      "   2 MY COMMITTEE\r\n",
      "   2 MOUNTAINEERS ARE ALWAYS FREE PAC\r\n",
      "   2 MOORE FOR CONGRESS\r\n",
      "   2 MELISSA FOR CONGRESS\r\n",
      "   2 MAYOCK FOR CONGRESS\r\n",
      "   2 MAX ROSE FOR CONGRESS\r\n",
      "   2 MAX FOR CONGRESS\r\n",
      "   2 MATHYS FOR CONGRESS\r\n",
      "   2 MARYOTT FOR CA-49\r\n",
      "   2 MARK HARMON FOR CONGRESS\r\n",
      "   2 MAJORITY FORWARD\r\n",
      "   2 LUCAS FOR CONGRESS\r\n",
      "   2 LEAGUE OF CONSERVATION VOTERS INC\r\n",
      "   2 LANGWORTHY FOR CONGRESS\r\n",
      "   2 LAIQUE REHMAN FOR CONGRESS\r\n",
      "   2 KUMAR FOR CONGRESS\r\n",
      "   2 KISTNER FOR MN-02\r\n",
      "   2 KEYSTONE STRONG\r\n",
      "   2 KERMIT THOMAS FOR CONGRESS\r\n",
      "   2 JOSEPH ARTHUR STETSON\r\n",
      "   2 JOHNSON FOR CONGRESS\r\n",
      "   2 JOHN CHAPMAN FOR CONGRESS\r\n",
      "   2 JIM DAVIS FOR CONGRESS\r\n",
      "   2 JEWISH VOICE FOR PEACE ACTION\r\n",
      "   2 INNOVATION NATION PAC\r\n",
      "   2 IDT COMMONS\r\n",
      "   2 I-PAC\r\n",
      "   2 HUMAN RIGHTS CAMPAIGN\r\n",
      "   2 HARPER FOR CONGRESS\r\n",
      "   2 GREAT AMERICA ALLIANCE\r\n",
      "   2 GRANITE LEADERSHIP PAC\r\n",
      "   2 GEOFF YOUNG FOR KENTUCKY\r\n",
      "   2 GEN NOW PAC\r\n",
      "   2 FUSE WASHINGTON\r\n",
      "   2 FRIENDS OF RICK BECKER\r\n",
      "   2 FRIENDS OF JERRY HILLIARD\r\n",
      "   2 FLORIDIANS FOR A FAIR SHAKE A PROJECT OF SIXTEEN THIRTY FUND\r\n",
      "   2 ESSHAKI FOR CONGRESS\r\n",
      "   2 ENVIRONMENTAL DEFENSE ACTION FUND\r\n",
      "   2 ELECT JASON KISHINEFF\r\n",
      "   2 DREAMS IN ACTION NM\r\n",
      "   2 DIGNITY CA SEIU LOCAL 2015\r\n",
      "   2 DESERT STONEWALL DEMOCRATS\r\n",
      "   2 DEREK PETTEYS FOR CONGRESS\r\n",
      "   2 DEMOCRATIC SOCIALIST JOINT PARTY\r\n",
      "   2 DEFENDING DEMOCRACY TOGETHER\r\n",
      "   2 DAVID ISHII SENATOR\r\n",
      "   2 DANIEL KILGORE FOR CONGRESS\r\n",
      "   2 COOK FOR PRESIDENT 2020\r\n",
      "   2 CONSTITUTIONAL PATRIOT PARTY\r\n",
      "   2 CONSERVATIVE VICTORY FUND\r\n",
      "   2 CONSERVATIVE ACTION COMMITTEE\r\n",
      "   2 COMMUNICATIONS WORKERS OF AMERICA\r\n",
      "   2 COMMON GOOD FUND\r\n",
      "   2 COMMITTEE TO ELECT LORETTA MILLER\r\n",
      "   2 COMMITTEE TO ELECT BRIDGETTE L. COOPER FOR CONGRESS\r\n",
      "   2 COLLINS VICTORY COMMITTEE\r\n",
      "   2 CLUB FOR GROWTH\r\n",
      "   2 CHRISTY SMITH VICTORY FUND\r\n",
      "   2 CHANGE MAKERS PAC\r\n",
      "   2 CASEY FOR CONGRESS\r\n",
      "   2 CALISTA CORPORATION\r\n",
      "   2 CAESAR GONZALES FOR CONGRESS\r\n",
      "   2 BLUE SUMMIT COUNTY\r\n",
      "   2 BLACK VOTERS MATTER FUND INC\r\n",
      "   2 BILL PAC\r\n",
      "   2 BEND THE ARC JEWISH ACTION INC\r\n",
      "   2 BECKER FOR CONGRESS\r\n",
      "   2 BAXTER FOR CONGRESS\r\n",
      "   2 BARAJAS FOR CONGRESS\r\n",
      "   2 BAH FOR CONGRESS\r\n",
      "   2 ATU-COPE SPECIAL HOLDING ACCOUNT\r\n",
      "   2 ARMSTRONG FOR CONGRESS\r\n",
      "   2 ANDREWS FOR CONGRESS\r\n",
      "   2 AMY PHAN WEST FOR CONGRESS\r\n",
      "   2 AMERICAN WARRIORS PAC\r\n",
      "   2 AMERICAN POSTAL WORKERS UNION AFL-CIO\r\n",
      "   2 AMERICAN OPPORTUNITY PAC\r\n",
      "   2 AMERICAN CIVIL LIBERTIES UNION INC.\r\n",
      "   2 AMERICAN BANKERS ASSOCIATION\r\n",
      "   2 AMERICA UNITED\r\n",
      "   2 AMERICA FIRST POLICIES INC.\r\n",
      "   2 AMARILLO MATTERS PAC\r\n",
      "   2 AMALGAMATED TRANSIT UNION\r\n",
      "   2 AFT SOLIDARITY\r\n",
      "   2 45COMMITTEE INC.\r\n"
     ]
    }
   ],
   "source": [
    "!csvcut -c2 candidates.csv | sort -r | uniq -D | uniq -c | sort -rn | head -150"
   ]
  },
  {
   "cell_type": "code",
   "execution_count": 31,
   "id": "36d39de5",
   "metadata": {},
   "outputs": [
    {
     "name": "stdout",
     "output_type": "stream",
     "text": [
      "--2022-09-23 05:19:31--  https://www.fec.gov/files/bulk-downloads/data_dictionaries/cm_header_file.csv\n",
      "Resolving www.fec.gov (www.fec.gov)... 18.160.46.102, 18.160.46.56, 18.160.46.98, ...\n",
      "Connecting to www.fec.gov (www.fec.gov)|18.160.46.102|:443... connected.\n",
      "HTTP request sent, awaiting response... 302 Moved Temporarily\n",
      "Location: https://cg-519a459a-0ea3-42c2-b7bc-fa1143481f74.s3-us-gov-west-1.amazonaws.com/bulk-downloads/data_dictionaries/cm_header_file.csv [following]\n",
      "--2022-09-23 05:19:31--  https://cg-519a459a-0ea3-42c2-b7bc-fa1143481f74.s3-us-gov-west-1.amazonaws.com/bulk-downloads/data_dictionaries/cm_header_file.csv\n",
      "Resolving cg-519a459a-0ea3-42c2-b7bc-fa1143481f74.s3-us-gov-west-1.amazonaws.com (cg-519a459a-0ea3-42c2-b7bc-fa1143481f74.s3-us-gov-west-1.amazonaws.com)... 108.175.49.92\n",
      "Connecting to cg-519a459a-0ea3-42c2-b7bc-fa1143481f74.s3-us-gov-west-1.amazonaws.com (cg-519a459a-0ea3-42c2-b7bc-fa1143481f74.s3-us-gov-west-1.amazonaws.com)|108.175.49.92|:443... connected.\n",
      "HTTP request sent, awaiting response... 200 OK\n",
      "Length: 158 [binary/octet-stream]\n",
      "Saving to: 'cm_header_file.csv.1'\n",
      "\n",
      "cm_header_file.csv. 100%[===================>]     158  --.-KB/s    in 0s      \n",
      "\n",
      "2022-09-23 05:19:32 (2.28 MB/s) - 'cm_header_file.csv.1' saved [158/158]\n",
      "\n"
     ]
    }
   ],
   "source": [
    "!wget https://www.fec.gov/files/bulk-downloads/data_dictionaries/cm_header_file.csv"
   ]
  },
  {
   "cell_type": "code",
   "execution_count": null,
   "id": "6df718c7",
   "metadata": {},
   "outputs": [],
   "source": []
  }
 ],
 "metadata": {
  "kernelspec": {
   "display_name": "Python 3 (ipykernel)",
   "language": "python",
   "name": "python3"
  },
  "language_info": {
   "codemirror_mode": {
    "name": "ipython",
    "version": 3
   },
   "file_extension": ".py",
   "mimetype": "text/x-python",
   "name": "python",
   "nbconvert_exporter": "python",
   "pygments_lexer": "ipython3",
   "version": "3.9.12"
  }
 },
 "nbformat": 4,
 "nbformat_minor": 5
}
